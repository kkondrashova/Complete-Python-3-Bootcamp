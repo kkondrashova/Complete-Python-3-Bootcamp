{
 "cells": [
  {
   "cell_type": "markdown",
   "metadata": {},
   "source": [
    "___\n",
    "\n",
    "<a href='https://www.udemy.com/user/joseportilla/'><img src='../Pierian_Data_Logo.png'/></a>\n",
    "___\n",
    "<center><em>Content Copyright by Pierian Data</em></center>"
   ]
  },
  {
   "cell_type": "markdown",
   "metadata": {
    "collapsed": true
   },
   "source": [
    "# Statements Assessment Test\n",
    "Let's test your knowledge!"
   ]
  },
  {
   "cell_type": "markdown",
   "metadata": {},
   "source": [
    "_____\n",
    "**Use <code>for</code>, .split(), and <code>if</code> to create a Statement that will print out words that start with 's':**"
   ]
  },
  {
   "cell_type": "code",
   "execution_count": 60,
   "metadata": {
    "collapsed": true
   },
   "outputs": [],
   "source": [
    "st = 'Print only the words that Start with s in this sentence'"
   ]
  },
  {
   "cell_type": "code",
   "execution_count": 62,
   "metadata": {
    "collapsed": true
   },
   "outputs": [
    {
     "name": "stdout",
     "output_type": "stream",
     "text": [
      "Start\n",
      "s\n",
      "sentence\n"
     ]
    }
   ],
   "source": [
    "for letter in st.split():\n",
    "    if letter[0].lower() == 's':\n",
    "        print(letter)"
   ]
  },
  {
   "cell_type": "markdown",
   "metadata": {},
   "source": [
    "______\n",
    "**Use range() to print all the even numbers from 0 to 10.**"
   ]
  },
  {
   "cell_type": "code",
   "execution_count": 50,
   "metadata": {
    "collapsed": true
   },
   "outputs": [
    {
     "name": "stdout",
     "output_type": "stream",
     "text": [
      "2\n",
      "4\n",
      "6\n",
      "8\n",
      "10\n"
     ]
    }
   ],
   "source": [
    "for num in range(0,11):\n",
    "    if num % 2 == 0 and num != 0:\n",
    "        print(num)"
   ]
  },
  {
   "cell_type": "code",
   "execution_count": 63,
   "metadata": {},
   "outputs": [
    {
     "name": "stdout",
     "output_type": "stream",
     "text": [
      "[0, 2, 4, 6, 8, 10]\n"
     ]
    }
   ],
   "source": [
    "print(list(range(0,11,2)))"
   ]
  },
  {
   "cell_type": "markdown",
   "metadata": {},
   "source": [
    "___\n",
    "**Use a List Comprehension to create a list of all numbers between 1 and 50 that are divisible by 3.**"
   ]
  },
  {
   "cell_type": "code",
   "execution_count": 51,
   "metadata": {
    "collapsed": true
   },
   "outputs": [
    {
     "name": "stdout",
     "output_type": "stream",
     "text": [
      "[3, 6, 9, 12, 15, 18, 21, 24, 27, 30, 33, 36, 39, 42, 45, 48]\n"
     ]
    }
   ],
   "source": [
    "#unsure on how to solve\n",
    "\n",
    "comp_list = [num for num in range(1,51) if num % 3 == 0]\n",
    "\n",
    "print(comp_list)"
   ]
  },
  {
   "cell_type": "code",
   "execution_count": 52,
   "metadata": {},
   "outputs": [
    {
     "name": "stdout",
     "output_type": "stream",
     "text": [
      "[3, 6, 9, 12, 15, 18, 21, 24, 27, 30, 33, 36, 39, 42, 45, 48]\n"
     ]
    }
   ],
   "source": [
    "temp_list = []\n",
    "\n",
    "\n",
    "for num in range(1,51):\n",
    "    if num % 3 == 0:\n",
    "        temp_list.append(num)\n",
    "\n",
    "\n",
    "print(temp_list)"
   ]
  },
  {
   "cell_type": "markdown",
   "metadata": {},
   "source": [
    "_____\n",
    "**Go through the string below and if the length of a word is even print \"even!\"**"
   ]
  },
  {
   "cell_type": "code",
   "execution_count": 64,
   "metadata": {
    "collapsed": true
   },
   "outputs": [],
   "source": [
    "st = 'Print every word in this sentence that has an even number of letters'"
   ]
  },
  {
   "cell_type": "code",
   "execution_count": 67,
   "metadata": {
    "collapsed": true
   },
   "outputs": [
    {
     "name": "stdout",
     "output_type": "stream",
     "text": [
      "word is even\n",
      "in is even\n",
      "this is even\n",
      "sentence is even\n",
      "that is even\n",
      "an is even\n",
      "even is even\n",
      "number is even\n",
      "of is even\n"
     ]
    }
   ],
   "source": [
    "for word in st.split():\n",
    "    if len(word) % 2 == 0:\n",
    "        print(word + ' is even')"
   ]
  },
  {
   "cell_type": "markdown",
   "metadata": {},
   "source": [
    "____\n",
    "**Write a program that prints the integers from 1 to 100. But for multiples of three print \"Fizz\" instead of the number, and for the multiples of five print \"Buzz\". For numbers which are multiples of both three and five print \"FizzBuzz\".**"
   ]
  },
  {
   "cell_type": "code",
   "execution_count": 55,
   "metadata": {
    "collapsed": true
   },
   "outputs": [
    {
     "name": "stdout",
     "output_type": "stream",
     "text": [
      "1\n",
      "2\n",
      "3 is fizz\n",
      "4\n",
      "5 is buzz\n",
      "6 is fizz\n",
      "7\n",
      "8\n",
      "9 is fizz\n",
      "10 is buzz\n",
      "11\n",
      "12 is fizz\n",
      "13\n",
      "14\n",
      "15 is FizzBuzz\n",
      "16\n",
      "17\n",
      "18 is fizz\n",
      "19\n",
      "20 is buzz\n",
      "21 is fizz\n",
      "22\n",
      "23\n",
      "24 is fizz\n",
      "25 is buzz\n",
      "26\n",
      "27 is fizz\n",
      "28\n",
      "29\n",
      "30 is FizzBuzz\n",
      "31\n",
      "32\n",
      "33 is fizz\n",
      "34\n",
      "35 is buzz\n",
      "36 is fizz\n",
      "37\n",
      "38\n",
      "39 is fizz\n",
      "40 is buzz\n",
      "41\n",
      "42 is fizz\n",
      "43\n",
      "44\n",
      "45 is FizzBuzz\n",
      "46\n",
      "47\n",
      "48 is fizz\n",
      "49\n",
      "50 is buzz\n",
      "51 is fizz\n",
      "52\n",
      "53\n",
      "54 is fizz\n",
      "55 is buzz\n",
      "56\n",
      "57 is fizz\n",
      "58\n",
      "59\n",
      "60 is FizzBuzz\n",
      "61\n",
      "62\n",
      "63 is fizz\n",
      "64\n",
      "65 is buzz\n",
      "66 is fizz\n",
      "67\n",
      "68\n",
      "69 is fizz\n",
      "70 is buzz\n",
      "71\n",
      "72 is fizz\n",
      "73\n",
      "74\n",
      "75 is FizzBuzz\n",
      "76\n",
      "77\n",
      "78 is fizz\n",
      "79\n",
      "80 is buzz\n",
      "81 is fizz\n",
      "82\n",
      "83\n",
      "84 is fizz\n",
      "85 is buzz\n",
      "86\n",
      "87 is fizz\n",
      "88\n",
      "89\n",
      "90 is FizzBuzz\n",
      "91\n",
      "92\n",
      "93 is fizz\n",
      "94\n",
      "95 is buzz\n",
      "96 is fizz\n",
      "97\n",
      "98\n",
      "99 is fizz\n",
      "100 is buzz\n"
     ]
    }
   ],
   "source": [
    "for num in range(1,101):\n",
    "    if num % 5 == 0 and num % 3 == 0:\n",
    "        print(f'{num} is FizzBuzz')\n",
    "    elif num % 3 == 0:\n",
    "        print(f'{num} is fizz')\n",
    "    elif num % 5 == 0:\n",
    "        print(f'{num} is buzz')\n",
    "    else:\n",
    "        print(num)"
   ]
  },
  {
   "cell_type": "markdown",
   "metadata": {},
   "source": [
    "____\n",
    "**Use List Comprehension to create a list of the first letters of every word in the string below:**"
   ]
  },
  {
   "cell_type": "code",
   "execution_count": 56,
   "metadata": {
    "collapsed": true
   },
   "outputs": [],
   "source": [
    "st = 'Create a list of the first letters of every word in this string'"
   ]
  },
  {
   "cell_type": "code",
   "execution_count": 57,
   "metadata": {
    "collapsed": true
   },
   "outputs": [
    {
     "name": "stdout",
     "output_type": "stream",
     "text": [
      "['C', 'a', 'l', 'o', 't', 'f', 'l', 'o', 'e', 'w', 'i', 't', 's']\n"
     ]
    }
   ],
   "source": [
    "new_list = [letter[0][0] for letter in st.split()]\n",
    "\n",
    "print(new_list)"
   ]
  },
  {
   "cell_type": "markdown",
   "metadata": {},
   "source": [
    "### Great Job!"
   ]
  }
 ],
 "metadata": {
  "kernelspec": {
   "display_name": "Python 3",
   "language": "python",
   "name": "python3"
  },
  "language_info": {
   "codemirror_mode": {
    "name": "ipython",
    "version": 3
   },
   "file_extension": ".py",
   "mimetype": "text/x-python",
   "name": "python",
   "nbconvert_exporter": "python",
   "pygments_lexer": "ipython3",
   "version": "3.11.9"
  }
 },
 "nbformat": 4,
 "nbformat_minor": 1
}
